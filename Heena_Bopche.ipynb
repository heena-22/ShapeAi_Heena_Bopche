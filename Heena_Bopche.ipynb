{
  "nbformat": 4,
  "nbformat_minor": 0,
  "metadata": {
    "colab": {
      "name": "Heena Bopche.ipynb",
      "provenance": [],
      "authorship_tag": "ABX9TyO2Cmjw6CNT7/QhnlfFzj6q",
      "include_colab_link": true
    },
    "kernelspec": {
      "name": "python3",
      "display_name": "Python 3"
    },
    "language_info": {
      "name": "python"
    }
  },
  "cells": [
    {
      "cell_type": "markdown",
      "metadata": {
        "id": "view-in-github",
        "colab_type": "text"
      },
      "source": [
        "<a href=\"https://colab.research.google.com/github/heena-22/ShapeAi_Heena_Bopche/blob/main/Heena_Bopche.ipynb\" target=\"_parent\"><img src=\"https://colab.research.google.com/assets/colab-badge.svg\" alt=\"Open In Colab\"/></a>"
      ]
    },
    {
      "cell_type": "code",
      "metadata": {
        "id": "IRXiCd20kUqH"
      },
      "source": [
        "In [ ]:\n",
        "from keras.datasets import mnist\n",
        "data = mnist.load_data()\n",
        "Downloading data from https://storage.googleapis.com/tensorflow/tf-keras-datasets/mnist.npz\n",
        "11493376/11490434 [==============================] - 0s 0us/step\n",
        "In [ ]:\n",
        "((X_train, y_train),(X_test,y_test)) = data\n",
        "In [ ]:\n",
        "X_train = X_train.reshape((X_train.shape[0],28*28)).astype('float32')\n",
        "X_test = X_test.reshape((X_test.shape[0],28*28)).astype('float32')\n",
        "In [ ]:\n",
        "X_train = X_train /255\n",
        "X_test = X_test /255\n",
        "In [ ]:\n",
        "from keras.utils import np_utils\n",
        " \n",
        "print(y_test.shape)\n",
        " \n",
        "y_train = np_utils.to_categorical(y_train)\n",
        "y_test = np_utils.to_categorical(y_test)\n",
        " \n",
        "num_classes = y_test.shape[1]\n",
        "print(y_test.shape)\n",
        "(10000,)\n",
        "(10000, 10)\n",
        "In [ ]:\n",
        "from keras.models import Sequential\n",
        "from keras.layers import Dense\n",
        "In [ ]:\n",
        "model = Sequential()\n",
        "model.add(Dense(32,input_dim = 28*28, activation='relu'))\n",
        "model.add(Dense(64, activation='relu'))\n",
        "model.add(Dense(10, activation='softmax'))\n",
        "In [ ]:\n",
        "model.compile(loss='categorical_crossentropy', optimizer='adam', metrics=['accuracy'])\n",
        "In [ ]:\n",
        "model.summary()\n",
        "Model: \"sequential\"\n",
        "_________________________________________________________________\n",
        "Layer (type)                 Output Shape              Param #   \n",
        "=================================================================\n",
        "dense (Dense)                (None, 32)                25120     \n",
        "_________________________________________________________________\n",
        "dense_1 (Dense)              (None, 64)                2112      \n",
        "_________________________________________________________________\n",
        "dense_2 (Dense)              (None, 10)                650       \n",
        "=================================================================\n",
        "Total params: 27,882\n",
        "Trainable params: 27,882\n",
        "Non-trainable params: 0\n",
        "_________________________________________________________________\n",
        "In [ ]:\n",
        "model.fit(X_train, y_train, epochs=10, batch_size=100)\n",
        "Epoch 1/10\n",
        "600/600 [==============================] - 3s 3ms/step - loss: 0.7735 - accuracy: 0.7805\n",
        "Epoch 2/10\n",
        "600/600 [==============================] - 2s 3ms/step - loss: 0.2210 - accuracy: 0.9351\n",
        "Epoch 3/10\n",
        "600/600 [==============================] - 2s 3ms/step - loss: 0.1639 - accuracy: 0.9521\n",
        "Epoch 4/10\n",
        "600/600 [==============================] - 2s 3ms/step - loss: 0.1402 - accuracy: 0.9582\n",
        "Epoch 5/10\n",
        "600/600 [==============================] - 2s 3ms/step - loss: 0.1179 - accuracy: 0.9640\n",
        "Epoch 6/10\n",
        "600/600 [==============================] - 2s 3ms/step - loss: 0.1027 - accuracy: 0.9688\n",
        "Epoch 7/10\n",
        "600/600 [==============================] - 2s 3ms/step - loss: 0.0927 - accuracy: 0.9715\n",
        "Epoch 8/10\n",
        "600/600 [==============================] - 2s 4ms/step - loss: 0.0841 - accuracy: 0.9736\n",
        "Epoch 9/10\n",
        "600/600 [==============================] - 2s 3ms/step - loss: 0.0753 - accuracy: 0.9758\n",
        "Epoch 10/10\n",
        "600/600 [==============================] - 2s 3ms/step - loss: 0.0660 - accuracy: 0.9802\n",
        "Out[ ]:\n",
        "<tensorflow.python.keras.callbacks.History at 0x7f4a3f9407d0>\n",
        "In [ ]:\n",
        "scores = model.evaluate(X_test, y_test)\n",
        "print(scores)\n",
        "313/313 [==============================] - 1s 1ms/step - loss: 0.1056 - accuracy: 0.9669\n",
        "[0.10556890815496445, 0.9668999910354614]"
      ],
      "execution_count": null,
      "outputs": []
    }
  ]
}